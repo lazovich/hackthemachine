{
 "cells": [
  {
   "cell_type": "code",
   "execution_count": null,
   "metadata": {},
   "outputs": [],
   "source": [
    "#get start time\n",
    "def startTime():\n",
    "    get.timeFormat\n",
    "    from dateTime for windowSize()\n",
    "        #get end row closest \n",
    "\n",
    "\n",
    "#gets dataframe _> select from st\n",
    "def PyDateTime_FromTimestamp():\n",
    "    row = #something \n",
    "    if row == row \n",
    "    return new datetime.datetime\n",
    "\n",
    "\n",
    "\n",
    "#get window size in seconds\n",
    "def windowSize():\n",
    "\n"
   ]
  },
  {
   "cell_type": "code",
   "execution_count": null,
   "metadata": {},
   "outputs": [],
   "source": [
    "c = data.corr()\n",
    "return matrix(c) \n",
    "\n",
    "\n",
    "\n"
   ]
  }
 ],
 "metadata": {
  "kernelspec": {
   "display_name": "Python 2",
   "language": "python",
   "name": "python2"
  },
  "language_info": {
   "codemirror_mode": {
    "name": "ipython",
    "version": 2
   },
   "file_extension": ".py",
   "mimetype": "text/x-python",
   "name": "python",
   "nbconvert_exporter": "python",
   "pygments_lexer": "ipython2",
   "version": "2.7.13"
  }
 },
 "nbformat": 4,
 "nbformat_minor": 2
}
